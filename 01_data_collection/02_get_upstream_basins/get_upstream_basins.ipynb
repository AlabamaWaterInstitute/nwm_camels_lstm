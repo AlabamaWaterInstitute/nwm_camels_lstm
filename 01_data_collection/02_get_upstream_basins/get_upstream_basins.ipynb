{
  "cells": [
    {
      "cell_type": "markdown",
      "id": "f3b4d424-9cfd-457e-ad37-f63a336d283e",
      "metadata": {
        "id": "f3b4d424-9cfd-457e-ad37-f63a336d283e"
      },
      "source": [
        "# NWM RouteLink file for developing topologic relationships\n",
        "\n",
        "This notebook was adapted from original work by James Halgren (GitHub @jameshalgren).\n",
        "\n",
        "This notebook demonstrates accessing the National Water Model (NWM) topological definition of the NWM channel routing simulation. Using these topological relationships, we can extract all of the catchments upstream of any given basin. In our use case, we find and select all NWM 3.0 reach IDs upstream of a CAMELS basin.\n",
        "\n",
        "- RouteLink_CONUS.nc sourced from https://www.nco.ncep.noaa.gov/pmb/codes/nwprod/nwm.v3.0.13/parm/domain/RouteLink_CONUS.nc. \n",
        "- `camels_basins.txt` derived from `../01_link_usgs_nwm/output/camels_link.csv`.\n",
        "\n",
        "Note: the source for RouteLink may change as the NWM gets updated by NOAA-OWP. Previous versions are not available for download.\n",
        "\n",
        "Adapted by Quinn Lee (GitHub @quinnylee)"
      ]
    },
    {
      "cell_type": "code",
      "execution_count": 1,
      "id": "b8e51d29",
      "metadata": {},
      "outputs": [],
      "source": [
        "import xarray as xr\n",
        "from collections import defaultdict\n",
        "import json"
      ]
    },
    {
      "cell_type": "code",
      "execution_count": 2,
      "id": "4447582f",
      "metadata": {},
      "outputs": [],
      "source": [
        "routelink_ds = xr.open_dataset(\"../RouteLink_CONUS.nc\")"
      ]
    },
    {
      "cell_type": "code",
      "execution_count": 3,
      "id": "3c4ba8d9-6485-4304-9f73-c05a4dde01ec",
      "metadata": {
        "colab": {
          "base_uri": "https://localhost:8080/"
        },
        "id": "3c4ba8d9-6485-4304-9f73-c05a4dde01ec",
        "outputId": "a1594be7-7066-478f-8cd0-2b8ea71990fb"
      },
      "outputs": [],
      "source": [
        "# Subset the dataset to only the columns we want\n",
        "\n",
        "subslice = [\n",
        "    \"link\",\n",
        "    \"to\",\n",
        "    \"gages\",\n",
        "]\n",
        "\n",
        "routelink_df = routelink_ds[subslice].to_dataframe().astype({\"link\": int, \"to\": int,})"
      ]
    },
    {
      "cell_type": "markdown",
      "id": "341cbf8a-467d-4e98-a380-17bc58922948",
      "metadata": {
        "id": "341cbf8a-467d-4e98-a380-17bc58922948"
      },
      "source": [
        "## Create a topology\n",
        "With the downloaded Route_Link, we can generate the topology of the CONUS river network"
      ]
    },
    {
      "cell_type": "code",
      "execution_count": 4,
      "id": "4215cc7b-32b9-4ab5-8a3c-ce4439955c8f",
      "metadata": {
        "colab": {
          "base_uri": "https://localhost:8080/",
          "height": 455
        },
        "id": "4215cc7b-32b9-4ab5-8a3c-ce4439955c8f",
        "outputId": "99df81ca-8e9c-4bce-f52d-2dc90ad8eb1c"
      },
      "outputs": [
        {
          "data": {
            "text/html": [
              "<div>\n",
              "<style scoped>\n",
              "    .dataframe tbody tr th:only-of-type {\n",
              "        vertical-align: middle;\n",
              "    }\n",
              "\n",
              "    .dataframe tbody tr th {\n",
              "        vertical-align: top;\n",
              "    }\n",
              "\n",
              "    .dataframe thead th {\n",
              "        text-align: right;\n",
              "    }\n",
              "</style>\n",
              "<table border=\"1\" class=\"dataframe\">\n",
              "  <thead>\n",
              "    <tr style=\"text-align: right;\">\n",
              "      <th></th>\n",
              "      <th>to</th>\n",
              "      <th>gages</th>\n",
              "      <th>lon</th>\n",
              "      <th>lat</th>\n",
              "    </tr>\n",
              "    <tr>\n",
              "      <th>link</th>\n",
              "      <th></th>\n",
              "      <th></th>\n",
              "      <th></th>\n",
              "      <th></th>\n",
              "    </tr>\n",
              "  </thead>\n",
              "  <tbody>\n",
              "    <tr>\n",
              "      <th>6635572</th>\n",
              "      <td>6635570</td>\n",
              "      <td>b'               '</td>\n",
              "      <td>-96.540199</td>\n",
              "      <td>46.228783</td>\n",
              "    </tr>\n",
              "    <tr>\n",
              "      <th>6635590</th>\n",
              "      <td>6635600</td>\n",
              "      <td>b'               '</td>\n",
              "      <td>-96.530647</td>\n",
              "      <td>46.213486</td>\n",
              "    </tr>\n",
              "    <tr>\n",
              "      <th>6635598</th>\n",
              "      <td>6635636</td>\n",
              "      <td>b'               '</td>\n",
              "      <td>-96.505341</td>\n",
              "      <td>46.201508</td>\n",
              "    </tr>\n",
              "    <tr>\n",
              "      <th>6635622</th>\n",
              "      <td>6635620</td>\n",
              "      <td>b'               '</td>\n",
              "      <td>-96.615021</td>\n",
              "      <td>46.200523</td>\n",
              "    </tr>\n",
              "    <tr>\n",
              "      <th>6635626</th>\n",
              "      <td>6635624</td>\n",
              "      <td>b'               '</td>\n",
              "      <td>-96.637161</td>\n",
              "      <td>46.195522</td>\n",
              "    </tr>\n",
              "    <tr>\n",
              "      <th>...</th>\n",
              "      <td>...</td>\n",
              "      <td>...</td>\n",
              "      <td>...</td>\n",
              "      <td>...</td>\n",
              "    </tr>\n",
              "    <tr>\n",
              "      <th>15456832</th>\n",
              "      <td>25371895</td>\n",
              "      <td>b'               '</td>\n",
              "      <td>-74.654648</td>\n",
              "      <td>44.979626</td>\n",
              "    </tr>\n",
              "    <tr>\n",
              "      <th>25371895</th>\n",
              "      <td>0</td>\n",
              "      <td>b'               '</td>\n",
              "      <td>-74.648621</td>\n",
              "      <td>44.996113</td>\n",
              "    </tr>\n",
              "    <tr>\n",
              "      <th>15448486</th>\n",
              "      <td>0</td>\n",
              "      <td>b'               '</td>\n",
              "      <td>-74.504646</td>\n",
              "      <td>44.994370</td>\n",
              "    </tr>\n",
              "    <tr>\n",
              "      <th>25293410</th>\n",
              "      <td>0</td>\n",
              "      <td>b'               '</td>\n",
              "      <td>-74.673912</td>\n",
              "      <td>44.998062</td>\n",
              "    </tr>\n",
              "    <tr>\n",
              "      <th>15450136</th>\n",
              "      <td>0</td>\n",
              "      <td>b'               '</td>\n",
              "      <td>-74.547752</td>\n",
              "      <td>44.995205</td>\n",
              "    </tr>\n",
              "  </tbody>\n",
              "</table>\n",
              "<p>2776734 rows × 4 columns</p>\n",
              "</div>"
            ],
            "text/plain": [
              "                to               gages        lon        lat\n",
              "link                                                        \n",
              "6635572    6635570  b'               ' -96.540199  46.228783\n",
              "6635590    6635600  b'               ' -96.530647  46.213486\n",
              "6635598    6635636  b'               ' -96.505341  46.201508\n",
              "6635622    6635620  b'               ' -96.615021  46.200523\n",
              "6635626    6635624  b'               ' -96.637161  46.195522\n",
              "...            ...                 ...        ...        ...\n",
              "15456832  25371895  b'               ' -74.654648  44.979626\n",
              "25371895         0  b'               ' -74.648621  44.996113\n",
              "15448486         0  b'               ' -74.504646  44.994370\n",
              "25293410         0  b'               ' -74.673912  44.998062\n",
              "15450136         0  b'               ' -74.547752  44.995205\n",
              "\n",
              "[2776734 rows x 4 columns]"
            ]
          },
          "execution_count": 4,
          "metadata": {},
          "output_type": "execute_result"
        }
      ],
      "source": [
        "routelink_df = routelink_df.set_index(\"link\")\n",
        "routelink_df"
      ]
    },
    {
      "cell_type": "code",
      "execution_count": 5,
      "id": "9bb5a383-8bbf-45c7-b42f-b647d5511419",
      "metadata": {
        "colab": {
          "base_uri": "https://localhost:8080/",
          "height": 393
        },
        "id": "9bb5a383-8bbf-45c7-b42f-b647d5511419",
        "outputId": "2665022e-a211-42d8-a7e0-f7d6d7a54f69"
      },
      "outputs": [],
      "source": [
        "def replace_downstreams(data, downstream_col, terminal_code):\n",
        "    '''If a node is above a terminal node, set the downstream id to the negative of the current node.'''\n",
        "    ds0_mask = data[downstream_col] == terminal_code\n",
        "    new_data = data.copy()\n",
        "    new_data.loc[ds0_mask, downstream_col] = ds0_mask.index[ds0_mask]\n",
        "\n",
        "    # Also set negative any nodes in downstream col not in data.index\n",
        "    new_data.loc[~data[downstream_col].isin(data.index), downstream_col] *= -1\n",
        "    return new_data\n",
        "\n",
        "def reverse_network(N):\n",
        "    '''\n",
        "    This function was sourced from the NOAA-OWP t-route codebase\n",
        "    https://github.com/NOAA-OWP/t-route\n",
        "\n",
        "    Reverse network connections graph\n",
        "    \n",
        "    Arguments:\n",
        "    ----------\n",
        "    N (dict, int: [int]): downstream network connections\n",
        "    \n",
        "    Returns:\n",
        "    --------\n",
        "    rg (dict, int: [int]): upstream network connections\n",
        "    \n",
        "    '''\n",
        "    rg = defaultdict(list)\n",
        "    for src, dst in N.items():\n",
        "        rg[src]\n",
        "        for n in dst:\n",
        "            rg[n].append(src)\n",
        "    rg.default_factory = None\n",
        "    return rg\n",
        "\n",
        "def extract_connections(rows, target_col, terminal_codes=None):\n",
        "    '''\n",
        "    This function was sourced from the NOAA-OWP t-route codebase\n",
        "    https://github.com/NOAA-OWP/t-route\n",
        "    Extract connection network from dataframe.\n",
        "\n",
        "    Arguments:\n",
        "    ----------\n",
        "    rows (DataFrame): Dataframe indexed by key_col.\n",
        "    key_col    (str): Source of each edge\n",
        "    target_col (str): Target of edge\n",
        "\n",
        "    Returns:\n",
        "    --------\n",
        "    network (dict, int: [int]): {segment id: [list of downstream adjacent segment ids]}\n",
        "    \n",
        "    '''\n",
        "    if terminal_codes is not None:\n",
        "        terminal_codes = set(terminal_codes)\n",
        "    else:\n",
        "        terminal_codes = {0}\n",
        "\n",
        "    network = {}\n",
        "    for src, dst in rows[target_col].items():\n",
        "        if src not in network:\n",
        "            network[src] = []\n",
        "\n",
        "        if dst not in terminal_codes:\n",
        "            network[src].append(dst)\n",
        "    return network"
      ]
    },
    {
      "cell_type": "code",
      "execution_count": 6,
      "id": "6d27c36e-8a46-47ba-800f-3983eed967e9",
      "metadata": {
        "id": "6d27c36e-8a46-47ba-800f-3983eed967e9"
      },
      "outputs": [],
      "source": [
        "# Reorganize RouteLink file\n",
        "routelink_df = routelink_df.sort_index()\n",
        "routelink_df = replace_downstreams(routelink_df, \"to\", 0)"
      ]
    },
    {
      "cell_type": "code",
      "execution_count": 7,
      "id": "46965cfe-b843-4292-a685-3a2b1c7b2c4e",
      "metadata": {
        "id": "46965cfe-b843-4292-a685-3a2b1c7b2c4e"
      },
      "outputs": [],
      "source": [
        "# Extract topology from RouteLink file\n",
        "connections = extract_connections(routelink_df, \"to\")\n",
        "rconn = reverse_network(connections)"
      ]
    },
    {
      "cell_type": "code",
      "execution_count": 8,
      "id": "59e7f4b1",
      "metadata": {},
      "outputs": [],
      "source": [
        "def get_upstreams(basin, upstreams):\n",
        "    '''Recursively get upstream basins.'''\n",
        "    direct_upstreams = rconn[basin]\n",
        "    for direct_upstream in direct_upstreams:\n",
        "        if direct_upstream not in upstreams:\n",
        "            upstreams.append(direct_upstream)\n",
        "            get_upstreams(direct_upstream, upstreams)\n",
        "    "
      ]
    },
    {
      "cell_type": "code",
      "execution_count": 9,
      "id": "1dea3ffe",
      "metadata": {},
      "outputs": [],
      "source": [
        "# Read list of CAMELS basins from file\n",
        "with open('camels_basins.txt', 'r') as f:\n",
        "    camels_basins = f.read().splitlines()\n",
        "\n",
        "camels_basins = [int(basin) for basin in camels_basins]"
      ]
    },
    {
      "cell_type": "code",
      "execution_count": 10,
      "id": "526a5e32",
      "metadata": {},
      "outputs": [],
      "source": [
        "# Recursively get upstream basins for each CAMELS basin\n",
        "upstream_dict = {}\n",
        "\n",
        "for camels_basin in camels_basins:\n",
        "    upstreams = []\n",
        "    get_upstreams(camels_basin, upstreams)\n",
        "    upstream_dict[camels_basin] = upstreams"
      ]
    },
    {
      "cell_type": "code",
      "execution_count": 11,
      "id": "1a1e3a24",
      "metadata": {},
      "outputs": [],
      "source": [
        "with open('camels_upstream_dict.json', 'w') as f:\n",
        "    json.dump(upstream_dict, f)"
      ]
    }
  ],
  "metadata": {
    "colab": {
      "provenance": []
    },
    "kernelspec": {
      "display_name": ".venv",
      "language": "python",
      "name": "python3"
    },
    "language_info": {
      "codemirror_mode": {
        "name": "ipython",
        "version": 3
      },
      "file_extension": ".py",
      "mimetype": "text/x-python",
      "name": "python",
      "nbconvert_exporter": "python",
      "pygments_lexer": "ipython3",
      "version": "3.12.3"
    }
  },
  "nbformat": 4,
  "nbformat_minor": 5
}
