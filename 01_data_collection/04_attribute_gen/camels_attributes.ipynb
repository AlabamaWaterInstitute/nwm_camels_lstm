{
 "cells": [
  {
   "cell_type": "markdown",
   "id": "64c2ea65",
   "metadata": {},
   "source": [
    "This notebook collects static attributes (basin length, basin area, reach length) for all of our basins of interest from the NWM 3.0 hydrofabric. \n",
    "\n",
    "- `hfv3_conuscats.parquet` and `hfv3_conusreaches.parquet` adapted from https://water.noaa.gov/resources/downloads/nwm/NWM_channel_hydrofabric.tar.gz\n",
    "- `camels_upstream_file` derived from `../02_get_upstream_basins/output/camels_upstream_dict.json`.\n",
    "\n",
    "Written by Quinn Lee (GitHub @quinnylee)"
   ]
  },
  {
   "cell_type": "code",
   "execution_count": 1,
   "id": "793d8857",
   "metadata": {},
   "outputs": [],
   "source": [
    "import pandas as pd\n",
    "import json"
   ]
  },
  {
   "cell_type": "code",
   "execution_count": 2,
   "id": "861fc90e",
   "metadata": {},
   "outputs": [],
   "source": [
    "# Read hydrofabric information\n",
    "conuscats = pd.read_parquet(\"../hfv3_conuscats.parquet\")\n",
    "conusreaches = pd.read_parquet(\"../hfv3_conusreaches.parquet\")"
   ]
  },
  {
   "cell_type": "code",
   "execution_count": 3,
   "id": "ef5ee00f",
   "metadata": {},
   "outputs": [
    {
     "data": {
      "text/html": [
       "<div>\n",
       "<style scoped>\n",
       "    .dataframe tbody tr th:only-of-type {\n",
       "        vertical-align: middle;\n",
       "    }\n",
       "\n",
       "    .dataframe tbody tr th {\n",
       "        vertical-align: top;\n",
       "    }\n",
       "\n",
       "    .dataframe thead th {\n",
       "        text-align: right;\n",
       "    }\n",
       "</style>\n",
       "<table border=\"1\" class=\"dataframe\">\n",
       "  <thead>\n",
       "    <tr style=\"text-align: right;\">\n",
       "      <th></th>\n",
       "      <th>ID</th>\n",
       "      <th>Shape_Length</th>\n",
       "      <th>Shape_Area</th>\n",
       "      <th>geometry</th>\n",
       "    </tr>\n",
       "  </thead>\n",
       "  <tbody>\n",
       "    <tr>\n",
       "      <th>0</th>\n",
       "      <td>91692</td>\n",
       "      <td>0.054827</td>\n",
       "      <td>0.000073</td>\n",
       "      <td>b'\\x01\\x06\\x00\\x00\\x00\\x01\\x00\\x00\\x00\\x01\\x03...</td>\n",
       "    </tr>\n",
       "    <tr>\n",
       "      <th>1</th>\n",
       "      <td>85234</td>\n",
       "      <td>0.107728</td>\n",
       "      <td>0.000204</td>\n",
       "      <td>b'\\x01\\x06\\x00\\x00\\x00\\x01\\x00\\x00\\x00\\x01\\x03...</td>\n",
       "    </tr>\n",
       "    <tr>\n",
       "      <th>2</th>\n",
       "      <td>85214</td>\n",
       "      <td>0.033429</td>\n",
       "      <td>0.000038</td>\n",
       "      <td>b'\\x01\\x06\\x00\\x00\\x00\\x01\\x00\\x00\\x00\\x01\\x03...</td>\n",
       "    </tr>\n",
       "    <tr>\n",
       "      <th>3</th>\n",
       "      <td>91966</td>\n",
       "      <td>0.038875</td>\n",
       "      <td>0.000045</td>\n",
       "      <td>b'\\x01\\x06\\x00\\x00\\x00\\x01\\x00\\x00\\x00\\x01\\x03...</td>\n",
       "    </tr>\n",
       "    <tr>\n",
       "      <th>4</th>\n",
       "      <td>89996</td>\n",
       "      <td>0.023342</td>\n",
       "      <td>0.000014</td>\n",
       "      <td>b'\\x01\\x06\\x00\\x00\\x00\\x01\\x00\\x00\\x00\\x01\\x03...</td>\n",
       "    </tr>\n",
       "  </tbody>\n",
       "</table>\n",
       "</div>"
      ],
      "text/plain": [
       "      ID  Shape_Length  Shape_Area  \\\n",
       "0  91692      0.054827    0.000073   \n",
       "1  85234      0.107728    0.000204   \n",
       "2  85214      0.033429    0.000038   \n",
       "3  91966      0.038875    0.000045   \n",
       "4  89996      0.023342    0.000014   \n",
       "\n",
       "                                            geometry  \n",
       "0  b'\\x01\\x06\\x00\\x00\\x00\\x01\\x00\\x00\\x00\\x01\\x03...  \n",
       "1  b'\\x01\\x06\\x00\\x00\\x00\\x01\\x00\\x00\\x00\\x01\\x03...  \n",
       "2  b'\\x01\\x06\\x00\\x00\\x00\\x01\\x00\\x00\\x00\\x01\\x03...  \n",
       "3  b'\\x01\\x06\\x00\\x00\\x00\\x01\\x00\\x00\\x00\\x01\\x03...  \n",
       "4  b'\\x01\\x06\\x00\\x00\\x00\\x01\\x00\\x00\\x00\\x01\\x03...  "
      ]
     },
     "execution_count": 3,
     "metadata": {},
     "output_type": "execute_result"
    }
   ],
   "source": [
    "conuscats.head()"
   ]
  },
  {
   "cell_type": "code",
   "execution_count": 9,
   "id": "217f3247",
   "metadata": {},
   "outputs": [
    {
     "data": {
      "text/plain": [
       "dtype('int32')"
      ]
     },
     "execution_count": 9,
     "metadata": {},
     "output_type": "execute_result"
    }
   ],
   "source": [
    "conuscats['ID'].dtype"
   ]
  },
  {
   "cell_type": "code",
   "execution_count": 4,
   "id": "121c482a",
   "metadata": {},
   "outputs": [],
   "source": [
    "camelsatts_dict = {\"id\": [], \"basin_length\": [], \"basin_area\": [], \"reach_length\": []}"
   ]
  },
  {
   "cell_type": "code",
   "execution_count": 6,
   "id": "0a5ba356",
   "metadata": {},
   "outputs": [],
   "source": [
    "with open(\"../02_get_upstream_basins/output/camels_upstream_dict.json\", \"r\") as camels_upstream_file:\n",
    "    camels_upstream_dict = json.load(camels_upstream_file)"
   ]
  },
  {
   "cell_type": "code",
   "execution_count": 7,
   "id": "284d9556",
   "metadata": {},
   "outputs": [],
   "source": [
    "camels_list = []\n",
    "for key in camels_upstream_dict.keys():\n",
    "    camels_list.append(int(key))\n",
    "    for basin in camels_upstream_dict[key]:\n",
    "        camels_list.append(basin)"
   ]
  },
  {
   "cell_type": "code",
   "execution_count": 10,
   "id": "668e45af",
   "metadata": {},
   "outputs": [
    {
     "data": {
      "text/plain": [
       "0.03722843916858033"
      ]
     },
     "execution_count": 10,
     "metadata": {},
     "output_type": "execute_result"
    }
   ],
   "source": [
    "conuscats[conuscats[\"ID\"] == 11049274][\"Shape_Length\"].values[0]"
   ]
  },
  {
   "cell_type": "code",
   "execution_count": 11,
   "id": "bbc7004a",
   "metadata": {},
   "outputs": [],
   "source": [
    "for camels_basin in camels_list:\n",
    "\n",
    "    try:\n",
    "        # Get the basin length\n",
    "        basin_length = conuscats[conuscats[\"ID\"] == camels_basin][\"Shape_Length\"].values[0]\n",
    "        # Get the basin area\n",
    "        basin_area = conuscats.loc[conuscats[\"ID\"] == camels_basin][\"Shape_Area\"].values[0]\n",
    "    except IndexError:\n",
    "        basin_length = 'NaN'\n",
    "        basin_area = 'NaN'\n",
    "    \n",
    "    try:\n",
    "        # Get the reach length\n",
    "        reach_length = conusreaches.loc[conusreaches[\"ID\"] == camels_basin][\"Shape_Length\"].values[0]\n",
    "    except IndexError:\n",
    "        reach_length = 'NaN'\n",
    "\n",
    "    camelsatts_dict[\"id\"].append(camels_basin)\n",
    "    camelsatts_dict[\"basin_length\"].append(basin_length)\n",
    "    camelsatts_dict[\"basin_area\"].append(basin_area)\n",
    "    camelsatts_dict[\"reach_length\"].append(reach_length)"
   ]
  },
  {
   "cell_type": "code",
   "execution_count": 12,
   "id": "c9336565",
   "metadata": {},
   "outputs": [],
   "source": [
    "camelsatts = pd.DataFrame(camelsatts_dict)\n"
   ]
  },
  {
   "cell_type": "code",
   "execution_count": 14,
   "id": "adb02a33",
   "metadata": {},
   "outputs": [],
   "source": [
    "camelsatts.to_csv(\"camelsatts.csv\", index=False)\n"
   ]
  }
 ],
 "metadata": {
  "kernelspec": {
   "display_name": ".venv",
   "language": "python",
   "name": "python3"
  },
  "language_info": {
   "codemirror_mode": {
    "name": "ipython",
    "version": 3
   },
   "file_extension": ".py",
   "mimetype": "text/x-python",
   "name": "python",
   "nbconvert_exporter": "python",
   "pygments_lexer": "ipython3",
   "version": "3.12.3"
  }
 },
 "nbformat": 4,
 "nbformat_minor": 5
}
